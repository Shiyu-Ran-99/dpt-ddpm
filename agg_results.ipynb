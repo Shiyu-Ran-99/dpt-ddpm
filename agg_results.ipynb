{
 "cells": [
  {
   "cell_type": "markdown",
   "metadata": {},
   "source": [
    "## Aggregating results to DataFrame"
   ]
  },
  {
   "cell_type": "code",
   "execution_count": 37,
   "metadata": {},
   "outputs": [],
   "source": [
    "import os\n",
    "import lib\n",
    "import numpy as np\n",
    "import pandas as pd\n",
    "\n",
    "DATASETS = [\n",
    "    \"abalone\",\n",
    "    \"adult\",\n",
    "    \"buddy\",\n",
    "    \"california\",\n",
    "    \"cardio\",\n",
    "    \"churn2\",\n",
    "    \"default\",\n",
    "    \"diabetes\",\n",
    "    \"fb-comments\",\n",
    "    \"gesture\",\n",
    "    \"higgs-small\",\n",
    "    \"house\",\n",
    "    \"insurance\",\n",
    "    \"king\",\n",
    "    \"miniboone\",\n",
    "    \"wilt\"\n",
    "]\n",
    "\n",
    "_REGRESSION = [\n",
    "    \"abalone\",\n",
    "    \"california\",\n",
    "    \"fb-comments\",\n",
    "    \"house\",\n",
    "    \"insurance\",\n",
    "    \"king\",\n",
    "]\n",
    "\n",
    "\n",
    "method2exp = {\n",
    "    \"real\": \"exp/{}/ddpm_cb_best/\",\n",
    "    \"tab-ddpm\": \"exp/{}/ddpm_cb_best/\"\n",
    "    # \"smote\": \"exp/{}/smote/\",\n",
    "    # \"ctabgan+\": \"exp/{}/ctabgan-plus/\",\n",
    "    # \"ctabgan\": \"exp/{}/ctabgan/\",\n",
    "    # \"tvae\": \"exp/{}/tvae/\"\n",
    "}\n",
    "\n",
    "eval_file = \"eval_catboost.json\"\n",
    "show_std = False\n",
    "df = pd.DataFrame(columns=[\"method\"] + [_[:3].upper() for _ in DATASETS])\n",
    "\n",
    "for algo in method2exp: \n",
    "    algo_res = []\n",
    "    for ds in DATASETS:\n",
    "        if not os.path.exists(os.path.join(method2exp[algo].format(ds), eval_file)):\n",
    "            algo_res.append(\"--\")\n",
    "            continue\n",
    "        metric = \"r2\" if ds in _REGRESSION else \"f1\"\n",
    "        res_dict = lib.load_json(os.path.join(method2exp[algo].format(ds), eval_file))\n",
    "\n",
    "        if algo == \"real\":\n",
    "            res = f'{res_dict[\"real\"][\"test\"][metric + \"-mean\"]:.4f}' \n",
    "            if show_std: res += f'+-{res_dict[\"real\"][\"test\"][metric + \"-std\"]:.4f}'\n",
    "        else:\n",
    "            res = f'{res_dict[\"synthetic\"][\"test\"][metric + \"-mean\"]:.4f}'\n",
    "            if show_std: res += f'+-{res_dict[\"synthetic\"][\"test\"][metric + \"-std\"]:.4f}'\n",
    "\n",
    "        algo_res.append(res)\n",
    "    df.loc[len(df)] = [algo] + algo_res"
   ]
  },
  {
   "cell_type": "code",
   "execution_count": 38,
   "outputs": [
    {
     "data": {
      "text/plain": "     method     ABA     ADU     BUD     CAL     CAR     CHU     DEF     DIA  \\\n0      real  0.5562  0.8152  0.9063  0.8568  0.7379  0.7403  0.6880  0.7849   \n1  tab-ddpm  0.5499  0.7951  0.9057  0.8362  0.7374  0.7548  0.6910  0.7398   \n\n      FB-     GES     HIG     HOU     INS     KIN     MIN     WIL  \n0  0.8371  0.6365  0.7238  0.6616  0.8137  0.9070  0.9342  0.8982  \n1  0.7128  0.5967  0.7218  0.6766  0.8092  0.8331  0.9362  0.9045  ",
      "text/html": "<div>\n<style scoped>\n    .dataframe tbody tr th:only-of-type {\n        vertical-align: middle;\n    }\n\n    .dataframe tbody tr th {\n        vertical-align: top;\n    }\n\n    .dataframe thead th {\n        text-align: right;\n    }\n</style>\n<table border=\"1\" class=\"dataframe\">\n  <thead>\n    <tr style=\"text-align: right;\">\n      <th></th>\n      <th>method</th>\n      <th>ABA</th>\n      <th>ADU</th>\n      <th>BUD</th>\n      <th>CAL</th>\n      <th>CAR</th>\n      <th>CHU</th>\n      <th>DEF</th>\n      <th>DIA</th>\n      <th>FB-</th>\n      <th>GES</th>\n      <th>HIG</th>\n      <th>HOU</th>\n      <th>INS</th>\n      <th>KIN</th>\n      <th>MIN</th>\n      <th>WIL</th>\n    </tr>\n  </thead>\n  <tbody>\n    <tr>\n      <th>0</th>\n      <td>real</td>\n      <td>0.5562</td>\n      <td>0.8152</td>\n      <td>0.9063</td>\n      <td>0.8568</td>\n      <td>0.7379</td>\n      <td>0.7403</td>\n      <td>0.6880</td>\n      <td>0.7849</td>\n      <td>0.8371</td>\n      <td>0.6365</td>\n      <td>0.7238</td>\n      <td>0.6616</td>\n      <td>0.8137</td>\n      <td>0.9070</td>\n      <td>0.9342</td>\n      <td>0.8982</td>\n    </tr>\n    <tr>\n      <th>1</th>\n      <td>tab-ddpm</td>\n      <td>0.5499</td>\n      <td>0.7951</td>\n      <td>0.9057</td>\n      <td>0.8362</td>\n      <td>0.7374</td>\n      <td>0.7548</td>\n      <td>0.6910</td>\n      <td>0.7398</td>\n      <td>0.7128</td>\n      <td>0.5967</td>\n      <td>0.7218</td>\n      <td>0.6766</td>\n      <td>0.8092</td>\n      <td>0.8331</td>\n      <td>0.9362</td>\n      <td>0.9045</td>\n    </tr>\n  </tbody>\n</table>\n</div>"
     },
     "execution_count": 38,
     "metadata": {},
     "output_type": "execute_result"
    }
   ],
   "source": [
    "df"
   ],
   "metadata": {
    "collapsed": false
   }
  },
  {
   "cell_type": "code",
   "execution_count": 39,
   "outputs": [
    {
     "data": {
      "text/plain": "{'synthetic': {'val': {'acc-count': 50.0,\n   'acc-mean': 0.9963,\n   'acc-std': 0.0012,\n   'f1-count': 50.0,\n   'f1-mean': 0.982,\n   'f1-std': 0.0056,\n   'roc_auc-count': 50.0,\n   'roc_auc-mean': 0.9994,\n   'roc_auc-std': 0.0004},\n  'test': {'acc-count': 50.0,\n   'acc-mean': 0.9805,\n   'acc-std': 0.0019,\n   'f1-count': 50.0,\n   'f1-mean': 0.9045,\n   'f1-std': 0.009,\n   'roc_auc-count': 50.0,\n   'roc_auc-mean': 0.9923,\n   'roc_auc-std': 0.0006}},\n 'real': {'val': {'acc-count': 10.0,\n   'acc-mean': 0.9907,\n   'acc-std': 0.001,\n   'f1-count': 10.0,\n   'f1-mean': 0.9532,\n   'f1-std': 0.0045,\n   'roc_auc-count': 10.0,\n   'roc_auc-mean': 0.9964,\n   'roc_auc-std': 0.002},\n  'test': {'acc-count': 10.0,\n   'acc-mean': 0.9801,\n   'acc-std': 0.0009,\n   'f1-count': 10.0,\n   'f1-mean': 0.8982,\n   'f1-std': 0.0063,\n   'roc_auc-count': 10.0,\n   'roc_auc-mean': 0.9883,\n   'roc_auc-std': 0.0019}}}"
     },
     "execution_count": 39,
     "metadata": {},
     "output_type": "execute_result"
    }
   ],
   "source": [
    "res_dict"
   ],
   "metadata": {
    "collapsed": false
   }
  },
  {
   "cell_type": "code",
   "execution_count": 32,
   "outputs": [
    {
     "data": {
      "text/plain": "['CONF',\n 'Circuit',\n 'DESCRIPTION',\n 'LOGGER',\n 'PROGRAM',\n 'ZeroConfig',\n '__builtins__',\n '__cached__',\n '__doc__',\n '__file__',\n '__loader__',\n '__name__',\n '__package__',\n '__path__',\n '__spec__',\n '__version__',\n '_version',\n 'add_log_handler',\n 'circuit',\n 'components',\n 'config',\n 'elements',\n 'format',\n 'logging',\n 'misc',\n 'noise',\n 'rcParams',\n 'set_log_verbosity']"
     },
     "execution_count": 32,
     "metadata": {},
     "output_type": "execute_result"
    }
   ],
   "source": [
    "import zero\n",
    "dir(zero)"
   ],
   "metadata": {
    "collapsed": false
   }
  },
  {
   "cell_type": "code",
   "execution_count": 2,
   "metadata": {},
   "outputs": [
    {
     "data": {
      "text/html": [
       "<div>\n",
       "<style scoped>\n",
       "    .dataframe tbody tr th:only-of-type {\n",
       "        vertical-align: middle;\n",
       "    }\n",
       "\n",
       "    .dataframe tbody tr th {\n",
       "        vertical-align: top;\n",
       "    }\n",
       "\n",
       "    .dataframe thead th {\n",
       "        text-align: right;\n",
       "    }\n",
       "</style>\n",
       "<table border=\"1\" class=\"dataframe\">\n",
       "  <thead>\n",
       "    <tr style=\"text-align: right;\">\n",
       "      <th></th>\n",
       "      <th>method</th>\n",
       "      <th>ABA</th>\n",
       "      <th>ADU</th>\n",
       "      <th>BUD</th>\n",
       "      <th>CAL</th>\n",
       "      <th>CAR</th>\n",
       "      <th>CHU</th>\n",
       "      <th>DEF</th>\n",
       "      <th>DIA</th>\n",
       "      <th>FB-</th>\n",
       "      <th>GES</th>\n",
       "      <th>HIG</th>\n",
       "      <th>HOU</th>\n",
       "      <th>INS</th>\n",
       "      <th>KIN</th>\n",
       "      <th>MIN</th>\n",
       "      <th>WIL</th>\n",
       "    </tr>\n",
       "  </thead>\n",
       "  <tbody>\n",
       "    <tr>\n",
       "      <th>0</th>\n",
       "      <td>real</td>\n",
       "      <td>0.5562</td>\n",
       "      <td>0.8152</td>\n",
       "      <td>0.9063</td>\n",
       "      <td>0.8568</td>\n",
       "      <td>0.7379</td>\n",
       "      <td>0.7403</td>\n",
       "      <td>0.6880</td>\n",
       "      <td>0.7849</td>\n",
       "      <td>0.8371</td>\n",
       "      <td>0.6365</td>\n",
       "      <td>0.7238</td>\n",
       "      <td>0.6616</td>\n",
       "      <td>0.8137</td>\n",
       "      <td>0.9070</td>\n",
       "      <td>0.9342</td>\n",
       "      <td>0.8982</td>\n",
       "    </tr>\n",
       "    <tr>\n",
       "      <th>1</th>\n",
       "      <td>tab-ddpm</td>\n",
       "      <td>0.5499</td>\n",
       "      <td>0.7951</td>\n",
       "      <td>0.9057</td>\n",
       "      <td>0.8362</td>\n",
       "      <td>0.7374</td>\n",
       "      <td>0.7548</td>\n",
       "      <td>0.6910</td>\n",
       "      <td>0.7398</td>\n",
       "      <td>0.7128</td>\n",
       "      <td>0.5967</td>\n",
       "      <td>0.7218</td>\n",
       "      <td>0.6766</td>\n",
       "      <td>0.8092</td>\n",
       "      <td>0.8331</td>\n",
       "      <td>0.9362</td>\n",
       "      <td>0.9045</td>\n",
       "    </tr>\n",
       "    <tr>\n",
       "      <th>2</th>\n",
       "      <td>smote</td>\n",
       "      <td>0.5486</td>\n",
       "      <td>0.7912</td>\n",
       "      <td>0.8906</td>\n",
       "      <td>0.8397</td>\n",
       "      <td>0.7323</td>\n",
       "      <td>0.7432</td>\n",
       "      <td>0.6930</td>\n",
       "      <td>0.6835</td>\n",
       "      <td>0.8035</td>\n",
       "      <td>0.6579</td>\n",
       "      <td>0.7219</td>\n",
       "      <td>0.6625</td>\n",
       "      <td>0.8119</td>\n",
       "      <td>0.8416</td>\n",
       "      <td>0.9323</td>\n",
       "      <td>0.9127</td>\n",
       "    </tr>\n",
       "    <tr>\n",
       "      <th>3</th>\n",
       "      <td>ctabgan+</td>\n",
       "      <td>0.4672</td>\n",
       "      <td>0.7724</td>\n",
       "      <td>0.8844</td>\n",
       "      <td>0.5247</td>\n",
       "      <td>0.7327</td>\n",
       "      <td>0.7024</td>\n",
       "      <td>0.6865</td>\n",
       "      <td>0.7339</td>\n",
       "      <td>0.5088</td>\n",
       "      <td>0.4055</td>\n",
       "      <td>0.6639</td>\n",
       "      <td>0.5040</td>\n",
       "      <td>0.7966</td>\n",
       "      <td>0.4438</td>\n",
       "      <td>0.8920</td>\n",
       "      <td>0.7983</td>\n",
       "    </tr>\n",
       "    <tr>\n",
       "      <th>4</th>\n",
       "      <td>ctabgan</td>\n",
       "      <td>--</td>\n",
       "      <td>0.7831</td>\n",
       "      <td>0.8552</td>\n",
       "      <td>--</td>\n",
       "      <td>0.7171</td>\n",
       "      <td>0.6875</td>\n",
       "      <td>0.6437</td>\n",
       "      <td>0.7310</td>\n",
       "      <td>--</td>\n",
       "      <td>0.3922</td>\n",
       "      <td>0.5748</td>\n",
       "      <td>--</td>\n",
       "      <td>--</td>\n",
       "      <td>--</td>\n",
       "      <td>0.8892</td>\n",
       "      <td>0.9060</td>\n",
       "    </tr>\n",
       "    <tr>\n",
       "      <th>5</th>\n",
       "      <td>tvae</td>\n",
       "      <td>0.4328</td>\n",
       "      <td>0.7810</td>\n",
       "      <td>0.8638</td>\n",
       "      <td>0.7518</td>\n",
       "      <td>0.7174</td>\n",
       "      <td>0.7317</td>\n",
       "      <td>0.6564</td>\n",
       "      <td>0.7136</td>\n",
       "      <td>0.6853</td>\n",
       "      <td>0.4340</td>\n",
       "      <td>0.6378</td>\n",
       "      <td>0.4926</td>\n",
       "      <td>0.7842</td>\n",
       "      <td>0.8238</td>\n",
       "      <td>0.9125</td>\n",
       "      <td>0.5006</td>\n",
       "    </tr>\n",
       "  </tbody>\n",
       "</table>\n",
       "</div>"
      ],
      "text/plain": [
       "     method     ABA     ADU     BUD     CAL     CAR     CHU     DEF     DIA  \\\n",
       "0      real  0.5562  0.8152  0.9063  0.8568  0.7379  0.7403  0.6880  0.7849   \n",
       "1  tab-ddpm  0.5499  0.7951  0.9057  0.8362  0.7374  0.7548  0.6910  0.7398   \n",
       "2     smote  0.5486  0.7912  0.8906  0.8397  0.7323  0.7432  0.6930  0.6835   \n",
       "3  ctabgan+  0.4672  0.7724  0.8844  0.5247  0.7327  0.7024  0.6865  0.7339   \n",
       "4   ctabgan      --  0.7831  0.8552      --  0.7171  0.6875  0.6437  0.7310   \n",
       "5      tvae  0.4328  0.7810  0.8638  0.7518  0.7174  0.7317  0.6564  0.7136   \n",
       "\n",
       "      FB-     GES     HIG     HOU     INS     KIN     MIN     WIL  \n",
       "0  0.8371  0.6365  0.7238  0.6616  0.8137  0.9070  0.9342  0.8982  \n",
       "1  0.7128  0.5967  0.7218  0.6766  0.8092  0.8331  0.9362  0.9045  \n",
       "2  0.8035  0.6579  0.7219  0.6625  0.8119  0.8416  0.9323  0.9127  \n",
       "3  0.5088  0.4055  0.6639  0.5040  0.7966  0.4438  0.8920  0.7983  \n",
       "4      --  0.3922  0.5748      --      --      --  0.8892  0.9060  \n",
       "5  0.6853  0.4340  0.6378  0.4926  0.7842  0.8238  0.9125  0.5006  "
      ]
     },
     "execution_count": 2,
     "metadata": {},
     "output_type": "execute_result"
    }
   ],
   "source": [
    "df"
   ]
  },
  {
   "cell_type": "code",
   "execution_count": 54,
   "metadata": {},
   "outputs": [
    {
     "ename": "FileNotFoundError",
     "evalue": "[Errno 2] No such file or directory: 'data/diabetes/X_cat_train.npy'",
     "output_type": "error",
     "traceback": [
      "\u001B[0;31m---------------------------------------------------------------------------\u001B[0m",
      "\u001B[0;31mFileNotFoundError\u001B[0m                         Traceback (most recent call last)",
      "Cell \u001B[0;32mIn[54], line 2\u001B[0m\n\u001B[1;32m      1\u001B[0m \u001B[38;5;28;01mimport\u001B[39;00m \u001B[38;5;21;01mnumpy\u001B[39;00m \u001B[38;5;28;01mas\u001B[39;00m \u001B[38;5;21;01mnp\u001B[39;00m\n\u001B[0;32m----> 2\u001B[0m test \u001B[38;5;241m=\u001B[39m \u001B[43mnp\u001B[49m\u001B[38;5;241;43m.\u001B[39;49m\u001B[43mload\u001B[49m\u001B[43m(\u001B[49m\u001B[38;5;124;43m'\u001B[39;49m\u001B[38;5;124;43mdata/diabetes/X_cat_train.npy\u001B[39;49m\u001B[38;5;124;43m'\u001B[39;49m\u001B[43m)\u001B[49m\n\u001B[1;32m      3\u001B[0m \u001B[38;5;28mprint\u001B[39m(test)\n",
      "File \u001B[0;32m~/Desktop/uzh论文/pythonProject/lib/python3.9/site-packages/numpy/lib/_npyio_impl.py:455\u001B[0m, in \u001B[0;36mload\u001B[0;34m(file, mmap_mode, allow_pickle, fix_imports, encoding, max_header_size)\u001B[0m\n",
      "\u001B[0;31mFileNotFoundError\u001B[0m: [Errno 2] No such file or directory: 'data/diabetes/X_cat_train.npy'"
     ]
    }
   ],
   "source": [
    "import numpy as np\n",
    "test = np.load('data/diabetes/X_cat_train.npy')\n",
    "print(test)\n"
   ]
  },
  {
   "cell_type": "code",
   "execution_count": 45,
   "outputs": [
    {
     "data": {
      "text/plain": "491"
     },
     "execution_count": 45,
     "metadata": {},
     "output_type": "execute_result"
    }
   ],
   "source": [
    "len(test)"
   ],
   "metadata": {
    "collapsed": false
   }
  },
  {
   "cell_type": "code",
   "execution_count": null,
   "outputs": [],
   "source": [
    "np_load_old = np.load\n",
    "np.load = lambda *a,**k: np_load_old(*a, allow_pickle=True, **k)\n",
    "np.load = np_load_old"
   ],
   "metadata": {
    "collapsed": false
   }
  },
  {
   "cell_type": "code",
   "execution_count": null,
   "outputs": [],
   "source": [
    "# np_load_old = np.load\n",
    "# np.load = lambda *a,**k: np_load_old(*a, allow_pickle=True, **k)\n",
    "# np.load = np_load_old\n",
    "import numpy as np\n",
    "t2 = np.load('data/abalone/X_num_train.npy')\n",
    "print(t2)"
   ],
   "metadata": {
    "collapsed": false
   }
  },
  {
   "cell_type": "code",
   "execution_count": 82,
   "outputs": [
    {
     "data": {
      "text/plain": "array([0, 0, 1, 0, 0, 1, 0, 0, 0, 1, 0, 0, 0, 1, 0, 0, 1, 0, 0, 1, 0, 0,\n       1, 0, 0, 1, 0, 0, 1, 0, 1, 1, 0, 1, 0, 0, 0, 0, 0, 0, 0, 0, 1, 0,\n       0, 0, 1, 0, 1, 1, 1, 0, 0, 1, 0, 1, 0, 0, 0, 1, 0, 1, 1, 0, 1, 1,\n       0, 0, 1, 1, 0, 1, 0, 0, 1, 1, 0, 0, 0, 1, 0, 0, 0, 0, 1, 1, 1, 1,\n       0, 0, 0, 1, 1, 0, 1, 1, 0, 0, 1, 1, 1, 0, 0, 1, 0, 0, 0, 1, 1, 0,\n       0, 1, 0, 0, 0, 0, 0, 0, 0, 1, 0, 1, 0, 0, 0, 0, 0, 0, 1, 1, 0, 0,\n       1, 0, 0, 1, 1, 0, 0, 0, 1, 0, 0, 0, 0, 0, 0, 1, 0, 0, 0, 0, 0, 0,\n       0, 0, 1, 1, 0, 0, 0, 0, 1, 0, 0, 1, 0, 1, 0, 0, 0, 0, 0, 1, 0, 0,\n       0, 0, 0, 1, 1, 0, 0, 0, 0, 1, 1, 0, 0, 1, 0, 0, 0, 0, 1, 0, 0, 1,\n       1, 1, 0, 0, 1, 1, 1, 0, 0, 0, 0, 0, 0, 0, 1, 0, 0, 0, 0, 0, 0, 0,\n       1, 1, 1, 0, 0, 0, 1, 0, 0, 0, 0, 0, 1, 1, 0, 1, 1, 1, 0, 0, 0, 0,\n       0, 0, 0, 1, 1, 0, 0, 1, 1, 1, 0, 0, 0, 0, 1, 0, 0, 0, 0, 1, 0, 1,\n       0, 0, 1, 0, 1, 0, 1, 0, 1, 0, 0, 1, 1, 0, 0, 1, 0, 0, 0, 1, 0, 1,\n       1, 1, 1, 0, 0, 1, 0, 0, 0, 0, 1, 1, 1, 0, 0, 0, 0, 0, 0, 0, 1, 1,\n       1, 0, 1, 0, 0, 1, 0, 1, 0, 0, 1, 1, 0, 0, 0, 0, 1, 0, 1, 1, 0, 1,\n       1, 0, 0, 1, 1, 0, 0, 0, 0, 0, 0, 0, 1, 0, 0, 1, 0, 1, 0, 1, 0, 1,\n       1, 0, 0, 1, 0, 1, 1, 0, 0, 1, 0, 0, 0, 1, 1, 0, 0, 0, 0, 0, 1, 0,\n       0, 0, 0, 1, 0, 0, 0, 0, 1, 0, 0, 0, 1, 0, 0, 0, 0, 0, 1, 1, 1, 0,\n       1, 1, 0, 0, 0, 0, 0, 1, 0, 0, 0, 0, 1, 1, 0, 0, 0, 0, 1, 0, 0, 0,\n       0, 1, 0, 0, 0, 0, 1, 0, 0, 0, 0, 1, 1, 0, 0, 0, 1, 0, 1, 0, 0, 0,\n       0, 0, 1, 0, 0, 0, 0, 1, 1, 0, 0, 0, 1, 0, 0, 1, 1, 0, 1, 1, 0, 0,\n       0, 1, 1, 0, 0, 1, 1, 1, 0, 1, 0, 0, 1, 0, 0, 1, 1, 1, 0, 0, 0, 1,\n       0, 0, 0, 0, 0, 0, 0])"
     },
     "execution_count": 82,
     "metadata": {},
     "output_type": "execute_result"
    }
   ],
   "source": [
    "np.load('data/diabetes/y_train.npy')"
   ],
   "metadata": {
    "collapsed": false
   }
  },
  {
   "cell_type": "code",
   "execution_count": 42,
   "outputs": [],
   "source": [
    "from rdt.transformers.numerical import ClusterBasedNormalizer\n",
    "transformer = ClusterBasedNormalizer()"
   ],
   "metadata": {
    "collapsed": false
   }
  },
  {
   "cell_type": "code",
   "execution_count": 43,
   "outputs": [
    {
     "data": {
      "text/plain": "['INITIAL_FIT_STATE',\n 'INPUT_SDTYPE',\n 'IS_GENERATOR',\n 'STD_MULTIPLIER',\n 'SUPPORTED_SDTYPES',\n '__class__',\n '__delattr__',\n '__dict__',\n '__dir__',\n '__doc__',\n '__eq__',\n '__format__',\n '__ge__',\n '__getattribute__',\n '__gt__',\n '__hash__',\n '__init__',\n '__init_subclass__',\n '__le__',\n '__lt__',\n '__module__',\n '__ne__',\n '__new__',\n '__reduce__',\n '__reduce_ex__',\n '__repr__',\n '__setattr__',\n '__sizeof__',\n '__str__',\n '__subclasshook__',\n '__weakref__',\n '_add_columns_to_data',\n '_bgm_transformer',\n '_build_output_columns',\n '_dtype',\n '_fit',\n '_get_columns_data',\n '_get_current_random_seed',\n '_get_output_to_property',\n '_max_value',\n '_min_value',\n '_raise_out_of_bounds_error',\n '_reverse_transform',\n '_reverse_transform_helper',\n '_rounding_digits',\n '_set_fitted_parameters',\n '_set_missing_value_generation',\n '_set_missing_value_replacement',\n '_set_model_missing_values',\n '_set_seed',\n '_store_columns',\n '_transform',\n '_validate_values_within_bounds',\n 'column_prefix',\n 'columns',\n 'computer_representation',\n 'enforce_min_max_values',\n 'fit',\n 'fit_transform',\n 'get_input_column',\n 'get_input_sdtype',\n 'get_name',\n 'get_next_transformers',\n 'get_output_columns',\n 'get_output_sdtypes',\n 'get_subclasses',\n 'get_supported_sdtypes',\n 'is_generator',\n 'learn_rounding_scheme',\n 'max_clusters',\n 'missing_value_generation',\n 'missing_value_replacement',\n 'model_missing_values',\n 'null_transformer',\n 'output_columns',\n 'output_properties',\n 'random_seed',\n 'random_states',\n 'reset_randomization',\n 'reverse_transform',\n 'set_random_state',\n 'transform',\n 'valid_component_indicator',\n 'weight_threshold']"
     },
     "execution_count": 43,
     "metadata": {},
     "output_type": "execute_result"
    }
   ],
   "source": [
    "dir(transformer)"
   ],
   "metadata": {
    "collapsed": false
   }
  },
  {
   "cell_type": "code",
   "execution_count": 44,
   "outputs": [
    {
     "ename": "UnicodeDecodeError",
     "evalue": "'utf-8' codec can't decode byte 0x80 in position 0: invalid start byte",
     "output_type": "error",
     "traceback": [
      "\u001B[0;31m---------------------------------------------------------------------------\u001B[0m",
      "\u001B[0;31mUnicodeDecodeError\u001B[0m                        Traceback (most recent call last)",
      "Cell \u001B[0;32mIn[44], line 2\u001B[0m\n\u001B[1;32m      1\u001B[0m \u001B[38;5;28;01mimport\u001B[39;00m \u001B[38;5;21;01mpywavefront\u001B[39;00m\n\u001B[0;32m----> 2\u001B[0m scene \u001B[38;5;241m=\u001B[39m \u001B[43mpywavefront\u001B[49m\u001B[38;5;241;43m.\u001B[39;49m\u001B[43mWavefront\u001B[49m\u001B[43m(\u001B[49m\u001B[38;5;124;43m'\u001B[39;49m\u001B[38;5;124;43m/Users/pigr/Desktop/uzh论文/pythonProject/tab-ddpm/exp/diabetes/tvae/tvae.obj\u001B[39;49m\u001B[38;5;124;43m'\u001B[39;49m\u001B[43m,\u001B[49m\u001B[43m \u001B[49m\u001B[43mcollect_faces\u001B[49m\u001B[38;5;241;43m=\u001B[39;49m\u001B[38;5;28;43;01mTrue\u001B[39;49;00m\u001B[43m)\u001B[49m\n",
      "File \u001B[0;32m~/Desktop/uzh论文/pythonProject/lib/python3.9/site-packages/pywavefront/wavefront.py:72\u001B[0m, in \u001B[0;36mWavefront.__init__\u001B[0;34m(self, file_name, strict, encoding, create_materials, collect_faces, parse, cache)\u001B[0m\n\u001B[1;32m     69\u001B[0m \u001B[38;5;28mself\u001B[39m\u001B[38;5;241m.\u001B[39mvertices \u001B[38;5;241m=\u001B[39m []\n\u001B[1;32m     70\u001B[0m \u001B[38;5;28mself\u001B[39m\u001B[38;5;241m.\u001B[39mmesh_list \u001B[38;5;241m=\u001B[39m []     \u001B[38;5;66;03m# Also includes anonymous meshes\u001B[39;00m\n\u001B[0;32m---> 72\u001B[0m \u001B[38;5;28mself\u001B[39m\u001B[38;5;241m.\u001B[39mparser \u001B[38;5;241m=\u001B[39m \u001B[38;5;28;43mself\u001B[39;49m\u001B[38;5;241;43m.\u001B[39;49m\u001B[43mparser_cls\u001B[49m\u001B[43m(\u001B[49m\n\u001B[1;32m     73\u001B[0m \u001B[43m    \u001B[49m\u001B[38;5;28;43mself\u001B[39;49m\u001B[43m,\u001B[49m\n\u001B[1;32m     74\u001B[0m \u001B[43m    \u001B[49m\u001B[38;5;28;43mself\u001B[39;49m\u001B[38;5;241;43m.\u001B[39;49m\u001B[43mfile_name\u001B[49m\u001B[43m,\u001B[49m\n\u001B[1;32m     75\u001B[0m \u001B[43m    \u001B[49m\u001B[43mstrict\u001B[49m\u001B[38;5;241;43m=\u001B[39;49m\u001B[43mstrict\u001B[49m\u001B[43m,\u001B[49m\n\u001B[1;32m     76\u001B[0m \u001B[43m    \u001B[49m\u001B[43mencoding\u001B[49m\u001B[38;5;241;43m=\u001B[39;49m\u001B[43mencoding\u001B[49m\u001B[43m,\u001B[49m\n\u001B[1;32m     77\u001B[0m \u001B[43m    \u001B[49m\u001B[43mcreate_materials\u001B[49m\u001B[38;5;241;43m=\u001B[39;49m\u001B[43mcreate_materials\u001B[49m\u001B[43m,\u001B[49m\n\u001B[1;32m     78\u001B[0m \u001B[43m    \u001B[49m\u001B[43mcollect_faces\u001B[49m\u001B[38;5;241;43m=\u001B[39;49m\u001B[43mcollect_faces\u001B[49m\u001B[43m,\u001B[49m\n\u001B[1;32m     79\u001B[0m \u001B[43m    \u001B[49m\u001B[43mparse\u001B[49m\u001B[38;5;241;43m=\u001B[39;49m\u001B[43mparse\u001B[49m\u001B[43m,\u001B[49m\n\u001B[1;32m     80\u001B[0m \u001B[43m    \u001B[49m\u001B[43mcache\u001B[49m\u001B[38;5;241;43m=\u001B[39;49m\u001B[43mcache\u001B[49m\u001B[43m)\u001B[49m\n",
      "File \u001B[0;32m~/Desktop/uzh论文/pythonProject/lib/python3.9/site-packages/pywavefront/obj.py:80\u001B[0m, in \u001B[0;36mObjParser.__init__\u001B[0;34m(self, wavefront, file_name, strict, encoding, create_materials, collect_faces, parse, cache)\u001B[0m\n\u001B[1;32m     77\u001B[0m \u001B[38;5;28mself\u001B[39m\u001B[38;5;241m.\u001B[39mtex_coords \u001B[38;5;241m=\u001B[39m []\n\u001B[1;32m     79\u001B[0m \u001B[38;5;28;01mif\u001B[39;00m parse:\n\u001B[0;32m---> 80\u001B[0m     \u001B[38;5;28;43mself\u001B[39;49m\u001B[38;5;241;43m.\u001B[39;49m\u001B[43mparse\u001B[49m\u001B[43m(\u001B[49m\u001B[43m)\u001B[49m\n",
      "File \u001B[0;32m~/Desktop/uzh论文/pythonProject/lib/python3.9/site-packages/pywavefront/obj.py:90\u001B[0m, in \u001B[0;36mObjParser.parse\u001B[0;34m(self)\u001B[0m\n\u001B[1;32m     87\u001B[0m     \u001B[38;5;28mself\u001B[39m\u001B[38;5;241m.\u001B[39mload_cache()\n\u001B[1;32m     89\u001B[0m \u001B[38;5;28;01mif\u001B[39;00m \u001B[38;5;129;01mnot\u001B[39;00m \u001B[38;5;28mself\u001B[39m\u001B[38;5;241m.\u001B[39mcache_loaded:\n\u001B[0;32m---> 90\u001B[0m     \u001B[38;5;28;43msuper\u001B[39;49m\u001B[43m(\u001B[49m\u001B[43mObjParser\u001B[49m\u001B[43m,\u001B[49m\u001B[43m \u001B[49m\u001B[38;5;28;43mself\u001B[39;49m\u001B[43m)\u001B[49m\u001B[38;5;241;43m.\u001B[39;49m\u001B[43mparse\u001B[49m\u001B[43m(\u001B[49m\u001B[43m)\u001B[49m\n\u001B[1;32m     92\u001B[0m logger\u001B[38;5;241m.\u001B[39minfo(\u001B[38;5;124m\"\u001B[39m\u001B[38;5;132;01m%s\u001B[39;00m\u001B[38;5;124m: Load time: \u001B[39m\u001B[38;5;132;01m%s\u001B[39;00m\u001B[38;5;124m\"\u001B[39m, \u001B[38;5;28mself\u001B[39m\u001B[38;5;241m.\u001B[39mfile_name, time\u001B[38;5;241m.\u001B[39mtime() \u001B[38;5;241m-\u001B[39m start)\n",
      "File \u001B[0;32m~/Desktop/uzh论文/pythonProject/lib/python3.9/site-packages/pywavefront/parser.py:123\u001B[0m, in \u001B[0;36mParser.parse\u001B[0;34m(self)\u001B[0m\n\u001B[1;32m    118\u001B[0m \u001B[38;5;28;01mwhile\u001B[39;00m \u001B[38;5;28;01mTrue\u001B[39;00m:\n\u001B[1;32m    119\u001B[0m     \u001B[38;5;66;03m# Only advance the parser if the previous line was consumed.\u001B[39;00m\n\u001B[1;32m    120\u001B[0m     \u001B[38;5;66;03m# Parse functions reading multiple lines can end up reading one line too far,\u001B[39;00m\n\u001B[1;32m    121\u001B[0m     \u001B[38;5;66;03m# so they return without consuming the line and we pick it up here\u001B[39;00m\n\u001B[1;32m    122\u001B[0m     \u001B[38;5;28;01mif\u001B[39;00m \u001B[38;5;129;01mnot\u001B[39;00m \u001B[38;5;28mself\u001B[39m\u001B[38;5;241m.\u001B[39mline:\n\u001B[0;32m--> 123\u001B[0m         \u001B[38;5;28;43mself\u001B[39;49m\u001B[38;5;241;43m.\u001B[39;49m\u001B[43mnext_line\u001B[49m\u001B[43m(\u001B[49m\u001B[43m)\u001B[49m\n\u001B[1;32m    125\u001B[0m     \u001B[38;5;28;01mif\u001B[39;00m \u001B[38;5;28mself\u001B[39m\u001B[38;5;241m.\u001B[39mline[\u001B[38;5;241m0\u001B[39m] \u001B[38;5;241m==\u001B[39m \u001B[38;5;124m'\u001B[39m\u001B[38;5;124m#\u001B[39m\u001B[38;5;124m'\u001B[39m \u001B[38;5;129;01mor\u001B[39;00m \u001B[38;5;28mlen\u001B[39m(\u001B[38;5;28mself\u001B[39m\u001B[38;5;241m.\u001B[39mvalues) \u001B[38;5;241m<\u001B[39m \u001B[38;5;241m2\u001B[39m:\n\u001B[1;32m    126\u001B[0m         \u001B[38;5;28mself\u001B[39m\u001B[38;5;241m.\u001B[39mconsume_line()\n",
      "File \u001B[0;32m~/Desktop/uzh论文/pythonProject/lib/python3.9/site-packages/pywavefront/parser.py:99\u001B[0m, in \u001B[0;36mParser.next_line\u001B[0;34m(self)\u001B[0m\n\u001B[1;32m     97\u001B[0m \u001B[38;5;28;01mdef\u001B[39;00m \u001B[38;5;21mnext_line\u001B[39m(\u001B[38;5;28mself\u001B[39m):\n\u001B[1;32m     98\u001B[0m \u001B[38;5;250m    \u001B[39m\u001B[38;5;124;03m\"\"\"Read the next line from the line generator and split it\"\"\"\u001B[39;00m\n\u001B[0;32m---> 99\u001B[0m     \u001B[38;5;28mself\u001B[39m\u001B[38;5;241m.\u001B[39mline \u001B[38;5;241m=\u001B[39m \u001B[38;5;28;43mnext\u001B[39;49m\u001B[43m(\u001B[49m\u001B[38;5;28;43mself\u001B[39;49m\u001B[38;5;241;43m.\u001B[39;49m\u001B[43mlines\u001B[49m\u001B[43m)\u001B[49m  \u001B[38;5;66;03m# Will raise StopIteration when there are no more lines\u001B[39;00m\n\u001B[1;32m    100\u001B[0m     \u001B[38;5;28mself\u001B[39m\u001B[38;5;241m.\u001B[39mvalues \u001B[38;5;241m=\u001B[39m \u001B[38;5;28mself\u001B[39m\u001B[38;5;241m.\u001B[39mline\u001B[38;5;241m.\u001B[39msplit()\n",
      "File \u001B[0;32m~/Desktop/uzh论文/pythonProject/lib/python3.9/site-packages/pywavefront/parser.py:92\u001B[0m, in \u001B[0;36mParser.create_line_generator\u001B[0;34m(self)\u001B[0m\n\u001B[1;32m     88\u001B[0m \u001B[38;5;28;01melse\u001B[39;00m:\n\u001B[1;32m     89\u001B[0m     \u001B[38;5;66;03m# FIXME: Converting to str for now for py34 compatibility\u001B[39;00m\n\u001B[1;32m     90\u001B[0m     file \u001B[38;5;241m=\u001B[39m \u001B[38;5;28mopen\u001B[39m(\u001B[38;5;28mstr\u001B[39m(\u001B[38;5;28mself\u001B[39m\u001B[38;5;241m.\u001B[39mfile_name), mode\u001B[38;5;241m=\u001B[39m\u001B[38;5;124m'\u001B[39m\u001B[38;5;124mr\u001B[39m\u001B[38;5;124m'\u001B[39m, encoding\u001B[38;5;241m=\u001B[39m\u001B[38;5;28mself\u001B[39m\u001B[38;5;241m.\u001B[39mencoding)\n\u001B[0;32m---> 92\u001B[0m     \u001B[38;5;28;01mfor\u001B[39;00m line \u001B[38;5;129;01min\u001B[39;00m file:\n\u001B[1;32m     93\u001B[0m         \u001B[38;5;28;01myield\u001B[39;00m line\n\u001B[1;32m     95\u001B[0m     file\u001B[38;5;241m.\u001B[39mclose()\n",
      "File \u001B[0;32m/Library/Developer/CommandLineTools/Library/Frameworks/Python3.framework/Versions/3.9/lib/python3.9/codecs.py:322\u001B[0m, in \u001B[0;36mBufferedIncrementalDecoder.decode\u001B[0;34m(self, input, final)\u001B[0m\n\u001B[1;32m    319\u001B[0m \u001B[38;5;28;01mdef\u001B[39;00m \u001B[38;5;21mdecode\u001B[39m(\u001B[38;5;28mself\u001B[39m, \u001B[38;5;28minput\u001B[39m, final\u001B[38;5;241m=\u001B[39m\u001B[38;5;28;01mFalse\u001B[39;00m):\n\u001B[1;32m    320\u001B[0m     \u001B[38;5;66;03m# decode input (taking the buffer into account)\u001B[39;00m\n\u001B[1;32m    321\u001B[0m     data \u001B[38;5;241m=\u001B[39m \u001B[38;5;28mself\u001B[39m\u001B[38;5;241m.\u001B[39mbuffer \u001B[38;5;241m+\u001B[39m \u001B[38;5;28minput\u001B[39m\n\u001B[0;32m--> 322\u001B[0m     (result, consumed) \u001B[38;5;241m=\u001B[39m \u001B[38;5;28;43mself\u001B[39;49m\u001B[38;5;241;43m.\u001B[39;49m\u001B[43m_buffer_decode\u001B[49m\u001B[43m(\u001B[49m\u001B[43mdata\u001B[49m\u001B[43m,\u001B[49m\u001B[43m \u001B[49m\u001B[38;5;28;43mself\u001B[39;49m\u001B[38;5;241;43m.\u001B[39;49m\u001B[43merrors\u001B[49m\u001B[43m,\u001B[49m\u001B[43m \u001B[49m\u001B[43mfinal\u001B[49m\u001B[43m)\u001B[49m\n\u001B[1;32m    323\u001B[0m     \u001B[38;5;66;03m# keep undecoded input until the next call\u001B[39;00m\n\u001B[1;32m    324\u001B[0m     \u001B[38;5;28mself\u001B[39m\u001B[38;5;241m.\u001B[39mbuffer \u001B[38;5;241m=\u001B[39m data[consumed:]\n",
      "\u001B[0;31mUnicodeDecodeError\u001B[0m: 'utf-8' codec can't decode byte 0x80 in position 0: invalid start byte"
     ]
    }
   ],
   "source": [
    "import pywavefront\n",
    "scene = pywavefront.Wavefront('/Users/pigr/Desktop/uzh论文/pythonProject/tab-ddpm/exp/diabetes/tvae/tvae.obj', collect_faces=True)\n"
   ],
   "metadata": {
    "collapsed": false
   }
  },
  {
   "cell_type": "code",
   "execution_count": 46,
   "outputs": [
    {
     "data": {
      "text/plain": "       eval_type         dataset  \\\ntrain  synthetic  data/diabetes/   \nval    synthetic  data/diabetes/   \ntest   synthetic  data/diabetes/   \n\n                                                 metrics  \ntrain  {'0': {'precision': 0.8668555240793201, 'recal...  \nval    {'0': {'precision': 0.772727272727272, 'recall...  \ntest   {'0': {'precision': 0.8073394495412841, 'recal...  ",
      "text/html": "<div>\n<style scoped>\n    .dataframe tbody tr th:only-of-type {\n        vertical-align: middle;\n    }\n\n    .dataframe tbody tr th {\n        vertical-align: top;\n    }\n\n    .dataframe thead th {\n        text-align: right;\n    }\n</style>\n<table border=\"1\" class=\"dataframe\">\n  <thead>\n    <tr style=\"text-align: right;\">\n      <th></th>\n      <th>eval_type</th>\n      <th>dataset</th>\n      <th>metrics</th>\n    </tr>\n  </thead>\n  <tbody>\n    <tr>\n      <th>train</th>\n      <td>synthetic</td>\n      <td>data/diabetes/</td>\n      <td>{'0': {'precision': 0.8668555240793201, 'recal...</td>\n    </tr>\n    <tr>\n      <th>val</th>\n      <td>synthetic</td>\n      <td>data/diabetes/</td>\n      <td>{'0': {'precision': 0.772727272727272, 'recall...</td>\n    </tr>\n    <tr>\n      <th>test</th>\n      <td>synthetic</td>\n      <td>data/diabetes/</td>\n      <td>{'0': {'precision': 0.8073394495412841, 'recal...</td>\n    </tr>\n  </tbody>\n</table>\n</div>"
     },
     "execution_count": 46,
     "metadata": {},
     "output_type": "execute_result"
    }
   ],
   "source": [
    "import pandas as pd\n",
    "t = pd.read_json('/Users/pigr/Desktop/uzh论文/pythonProject/tab-ddpm/exp/diabetes/ddpm_cb_best/results_catboost.json')\n",
    "t"
   ],
   "metadata": {
    "collapsed": false
   }
  },
  {
   "cell_type": "code",
   "execution_count": 51,
   "outputs": [
    {
     "data": {
      "text/plain": "{'precision': 0.8073394495412841,\n 'recall': 0.88,\n 'f1-score': 0.842105263157894,\n 'support': 100.0}"
     },
     "execution_count": 51,
     "metadata": {},
     "output_type": "execute_result"
    }
   ],
   "source": [
    "t.iloc[2]['metrics']['0']"
   ],
   "metadata": {
    "collapsed": false
   }
  },
  {
   "cell_type": "code",
   "execution_count": 53,
   "outputs": [
    {
     "data": {
      "text/plain": "   precision  recall  f1-score  support\n0   0.807339    0.88  0.842105    100.0",
      "text/html": "<div>\n<style scoped>\n    .dataframe tbody tr th:only-of-type {\n        vertical-align: middle;\n    }\n\n    .dataframe tbody tr th {\n        vertical-align: top;\n    }\n\n    .dataframe thead th {\n        text-align: right;\n    }\n</style>\n<table border=\"1\" class=\"dataframe\">\n  <thead>\n    <tr style=\"text-align: right;\">\n      <th></th>\n      <th>precision</th>\n      <th>recall</th>\n      <th>f1-score</th>\n      <th>support</th>\n    </tr>\n  </thead>\n  <tbody>\n    <tr>\n      <th>0</th>\n      <td>0.807339</td>\n      <td>0.88</td>\n      <td>0.842105</td>\n      <td>100.0</td>\n    </tr>\n  </tbody>\n</table>\n</div>"
     },
     "execution_count": 53,
     "metadata": {},
     "output_type": "execute_result"
    }
   ],
   "source": [
    "pd.DataFrame(t.iloc[2]['metrics']['0'],index=[0])"
   ],
   "metadata": {
    "collapsed": false
   }
  },
  {
   "cell_type": "code",
   "execution_count": 63,
   "outputs": [],
   "source": [
    "from sklearn.metrics import pairwise_distances\n",
    "from sklearn.preprocessing import MinMaxScaler, OneHotEncoder\n",
    "def privacy_metrics(real_path,fake_path, data_percent=15):\n",
    "\n",
    "    \"\"\"\n",
    "    Returns privacy metrics\n",
    "\n",
    "    Inputs:\n",
    "    1) real_path -> path to real data\n",
    "    2) fake_path -> path to corresponding synthetic data\n",
    "    3) data_percent -> percentage of data to be sampled from real and synthetic datasets for computing privacy metrics\n",
    "    Outputs:\n",
    "    1) List containing the 5th percentile distance to closest record (DCR) between real and synthetic as well as within real and synthetic datasets\n",
    "    along with 5th percentile of nearest neighbour distance ratio (NNDR) between real and synthetic as well as within real and synthetic datasets\n",
    "\n",
    "    \"\"\"\n",
    "    task_type = lib.load_json(real_path + \"/info.json\")[\"task_type\"]\n",
    "    X_num_real, X_cat_real, y_real = lib.read_pure_data(real_path, 'train')\n",
    "    X_num_fake, X_cat_fake, y_fake = lib.read_pure_data(fake_path, 'train')\n",
    "\n",
    "    if task_type == 'regression':\n",
    "        X_num_real = np.concatenate([X_num_real, y_real[:, np.newaxis]], axis=1)\n",
    "        X_num_fake = np.concatenate([X_num_fake, y_fake[:, np.newaxis]], axis=1)\n",
    "    else:\n",
    "        if X_cat_fake is None:\n",
    "            X_cat_real = y_real[:, np.newaxis].astype(int).astype(str)\n",
    "            X_cat_fake = y_fake[:, np.newaxis].astype(int).astype(str)\n",
    "        else:\n",
    "            X_cat_real = np.concatenate([X_cat_real, y_real[:, np.newaxis].astype(int).astype(str)], axis=1)\n",
    "            X_cat_fake = np.concatenate([X_cat_fake, y_fake[:, np.newaxis].astype(int).astype(str)], axis=1)\n",
    "\n",
    "    if len(y_real) > 50000:\n",
    "        ixs = np.random.choice(len(y_real), 50000, replace=False)\n",
    "        X_num_real = X_num_real[ixs]\n",
    "        X_cat_real = X_cat_real[ixs] if X_cat_real is not None else None\n",
    "\n",
    "    if len(y_fake) > 50000:\n",
    "        ixs = np.random.choice(len(y_fake), 50000, replace=False)\n",
    "        X_num_fake = X_num_fake[ixs]\n",
    "        X_cat_fake = X_cat_fake[ixs] if X_cat_fake is not None else None\n",
    "\n",
    "\n",
    "    mm = MinMaxScaler().fit(X_num_real)\n",
    "    X_real = mm.transform(X_num_real)\n",
    "    X_fake = mm.transform(X_num_fake)\n",
    "    if X_cat_real is not None:\n",
    "        ohe = OneHotEncoder().fit(X_cat_real)\n",
    "        X_cat_real = ohe.transform(X_cat_real) / np.sqrt(2)\n",
    "        X_cat_fake = ohe.transform(X_cat_fake) / np.sqrt(2)\n",
    "\n",
    "        X_real = np.concatenate([X_real, X_cat_real.todense()], axis=1)\n",
    "        X_fake = np.concatenate([X_fake, X_cat_fake.todense()], axis=1)\n",
    "\n",
    "    # X_real = np.unique(X_real, axis=0)\n",
    "    # X_fake = np.unique(X_fake, axis=0)\n",
    "    X_fake = np.asarray(X_fake)\n",
    "    X_real = np.asarray(X_real)\n",
    "    # Computing pair-wise distances between real and synthetic\n",
    "    dist_rf = pairwise_distances(X_fake, Y=X_real, metric='l2', n_jobs=-1)\n",
    "    # Computing pair-wise distances within real\n",
    "    # dist_rr = pairwise_distances(X_real, Y=None, metric='l2', n_jobs=-1)\n",
    "    # Computing pair-wise distances within synthetic\n",
    "    # dist_ff = pairwise_distances(X_fake, Y=None, metric='l2', n_jobs=-1)\n",
    "\n",
    "\n",
    "    # Removes distances of data points to themselves to avoid 0s within real and synthetic\n",
    "    # rd_dist_rr = dist_rr[~np.eye(dist_rr.shape[0],dtype=bool)].reshape(dist_rr.shape[0],-1)\n",
    "    # rd_dist_ff = dist_ff[~np.eye(dist_ff.shape[0],dtype=bool)].reshape(dist_ff.shape[0],-1)\n",
    "\n",
    "    # Computing first and second smallest nearest neighbour distances between real and synthetic\n",
    "    smallest_two_indexes_rf = [dist_rf[i].argsort()[:2] for i in range(len(dist_rf))]\n",
    "    smallest_two_rf = [dist_rf[i][smallest_two_indexes_rf[i]] for i in range(len(dist_rf))]\n",
    "    # Computing first and second smallest nearest neighbour distances within real\n",
    "    # smallest_two_indexes_rr = [rd_dist_rr[i].argsort()[:2] for i in range(len(rd_dist_rr))]\n",
    "    # smallest_two_rr = [rd_dist_rr[i][smallest_two_indexes_rr[i]] for i in range(len(rd_dist_rr))]\n",
    "    # Computing first and second smallest nearest neighbour distances within synthetic\n",
    "    # smallest_two_indexes_ff = [rd_dist_ff[i].argsort()[:2] for i in range(len(rd_dist_ff))]\n",
    "    # smallest_two_ff = [rd_dist_ff[i][smallest_two_indexes_ff[i]] for i in range(len(rd_dist_ff))]\n",
    "\n",
    "\n",
    "    # Computing 5th percentiles for DCR and NNDR between and within real and synthetic datasets\n",
    "    min_dist_rf = np.array([i[0] for i in smallest_two_rf])\n",
    "    fifth_perc_rf = np.percentile(min_dist_rf,5)\n",
    "    # min_dist_rr = np.array([i[0] for i in smallest_two_rr])\n",
    "    # fifth_perc_rr = np.percentile(min_dist_rr,5)\n",
    "    # min_dist_ff = np.array([i[0] for i in smallest_two_ff])\n",
    "    # fifth_perc_ff = np.percentile(min_dist_ff,5)\n",
    "    # nn_ratio_rf = np.array([i[0]/i[1] for i in smallest_two_rf])\n",
    "    # nn_fifth_perc_rf = np.percentile(nn_ratio_rf,5)\n",
    "    # nn_ratio_rr = np.array([i[0]/i[1] for i in smallest_two_rr])\n",
    "    # nn_fifth_perc_rr = np.percentile(nn_ratio_rr,5)\n",
    "    # nn_ratio_ff = np.array([i[0]/i[1] for i in smallest_two_ff])\n",
    "    # nn_fifth_perc_ff = np.percentile(nn_ratio_ff,5)\n",
    "\n",
    "    # return np.array([fifth_perc_rf,fifth_perc_rr,fifth_perc_ff,nn_fifth_perc_rf,nn_fifth_perc_rr,nn_fifth_perc_ff]).reshape(1,6)\n",
    "    return min_dist_rf # , min_dist_rr"
   ],
   "metadata": {
    "collapsed": false
   }
  },
  {
   "cell_type": "code",
   "execution_count": 67,
   "outputs": [
    {
     "name": "stderr",
     "output_type": "stream",
     "text": [
      "/Library/Developer/CommandLineTools/Library/Frameworks/Python3.framework/Versions/3.9/lib/python3.9/multiprocessing/resource_tracker.py:96: UserWarning: resource_tracker: process died unexpectedly, relaunching.  Some resources might leak.\n",
      "  warnings.warn('resource_tracker: process died unexpectedly, '\n",
      "/Library/Developer/CommandLineTools/Library/Frameworks/Python3.framework/Versions/3.9/lib/python3.9/multiprocessing/resource_tracker.py:96: UserWarning: resource_tracker: process died unexpectedly, relaunching.  Some resources might leak.\n",
      "  warnings.warn('resource_tracker: process died unexpectedly, '\n"
     ]
    }
   ],
   "source": [
    "dists=privacy_metrics(real_path='data/diabetes',fake_path='exp/diabetes/ctabgan-plus', data_percent=15)"
   ],
   "metadata": {
    "collapsed": false
   }
  },
  {
   "cell_type": "code",
   "execution_count": 68,
   "outputs": [
    {
     "data": {
      "text/plain": "np.float64(0.19242138529445127)"
     },
     "execution_count": 68,
     "metadata": {},
     "output_type": "execute_result"
    }
   ],
   "source": [
    "privacy_val = np.median(dists)\n",
    "privacy_val"
   ],
   "metadata": {
    "collapsed": false
   }
  },
  {
   "cell_type": "code",
   "execution_count": 76,
   "outputs": [
    {
     "name": "stderr",
     "output_type": "stream",
     "text": [
      "/Library/Developer/CommandLineTools/Library/Frameworks/Python3.framework/Versions/3.9/lib/python3.9/multiprocessing/resource_tracker.py:96: UserWarning: resource_tracker: process died unexpectedly, relaunching.  Some resources might leak.\n",
      "  warnings.warn('resource_tracker: process died unexpectedly, '\n",
      "  0%|          | 0/4 [00:06<?, ?it/s]\n"
     ]
    },
    {
     "name": "stdout",
     "output_type": "stream",
     "text": [
      "Unexpected exception formatting exception. Falling back to standard exception\n"
     ]
    },
    {
     "name": "stderr",
     "output_type": "stream",
     "text": [
      "Traceback (most recent call last):\n",
      "  File \"/Users/pigr/Desktop/uzh论文/pythonProject/lib/python3.9/site-packages/IPython/core/interactiveshell.py\", line 3550, in run_code\n",
      "    exec(code_obj, self.user_global_ns, self.user_ns)\n",
      "  File \"/var/folders/1l/7pvpcs552dg7h4wlrb9tvv8h0000gn/T/ipykernel_18926/545055158.py\", line 14, in <module>\n",
      "    dists = privacy_metrics(real_path=real_path,fake_path=fake_path, data_percent=15)\n",
      "  File \"/var/folders/1l/7pvpcs552dg7h4wlrb9tvv8h0000gn/T/ipykernel_18926/1606525946.py\", line 19, in privacy_metrics\n",
      "    X_num_fake, X_cat_fake, y_fake = lib.read_pure_data(fake_path, 'train')\n",
      "  File \"/Users/pigr/Desktop/uzh论文/pythonProject/tab-ddpm/lib/data.py\", line 678, in read_pure_data\n",
      "  File \"/Users/pigr/Desktop/uzh论文/pythonProject/lib/python3.9/site-packages/numpy/lib/_npyio_impl.py\", line 484, in load\n",
      "  File \"/Users/pigr/Desktop/uzh论文/pythonProject/lib/python3.9/site-packages/numpy/lib/format.py\", line 827, in read_array\n",
      "  File \"/Users/pigr/Desktop/uzh论文/pythonProject/lib/python3.9/site-packages/numpy/core/multiarray.py\", line 86, in <module>\n",
      "    def empty_like(prototype, dtype=None, order=None, subok=None, shape=None):\n",
      "  File \"/Users/pigr/Desktop/uzh论文/pythonProject/lib/python3.9/site-packages/numpy/_core/overrides.py\", line 178, in decorator\n",
      "  File \"/Users/pigr/Desktop/uzh论文/pythonProject/lib/python3.9/site-packages/numpy/_core/overrides.py\", line 158, in decorator\n",
      "RuntimeError: empty_like method already has a different docstring\n",
      "\n",
      "During handling of the above exception, another exception occurred:\n",
      "\n",
      "Traceback (most recent call last):\n",
      "  File \"/Users/pigr/Desktop/uzh论文/pythonProject/lib/python3.9/site-packages/IPython/core/interactiveshell.py\", line 2144, in showtraceback\n",
      "    stb = self.InteractiveTB.structured_traceback(\n",
      "  File \"/Users/pigr/Desktop/uzh论文/pythonProject/lib/python3.9/site-packages/IPython/core/ultratb.py\", line 1435, in structured_traceback\n",
      "    return FormattedTB.structured_traceback(\n",
      "  File \"/Users/pigr/Desktop/uzh论文/pythonProject/lib/python3.9/site-packages/IPython/core/ultratb.py\", line 1326, in structured_traceback\n",
      "    return VerboseTB.structured_traceback(\n",
      "  File \"/Users/pigr/Desktop/uzh论文/pythonProject/lib/python3.9/site-packages/IPython/core/ultratb.py\", line 1173, in structured_traceback\n",
      "    formatted_exception = self.format_exception_as_a_whole(etype, evalue, etb, number_of_lines_of_context,\n",
      "  File \"/Users/pigr/Desktop/uzh论文/pythonProject/lib/python3.9/site-packages/IPython/core/ultratb.py\", line 1088, in format_exception_as_a_whole\n",
      "    frames.append(self.format_record(record))\n",
      "  File \"/Users/pigr/Desktop/uzh论文/pythonProject/lib/python3.9/site-packages/IPython/core/ultratb.py\", line 970, in format_record\n",
      "    frame_info.lines, Colors, self.has_colors, lvals\n",
      "  File \"/Users/pigr/Desktop/uzh论文/pythonProject/lib/python3.9/site-packages/IPython/core/ultratb.py\", line 792, in lines\n",
      "    return self._sd.lines\n",
      "  File \"/Users/pigr/Desktop/uzh论文/pythonProject/lib/python3.9/site-packages/stack_data/utils.py\", line 145, in cached_property_wrapper\n",
      "    value = obj.__dict__[self.func.__name__] = self.func(obj)\n",
      "  File \"/Users/pigr/Desktop/uzh论文/pythonProject/lib/python3.9/site-packages/stack_data/core.py\", line 734, in lines\n",
      "    pieces = self.included_pieces\n",
      "  File \"/Users/pigr/Desktop/uzh论文/pythonProject/lib/python3.9/site-packages/stack_data/utils.py\", line 145, in cached_property_wrapper\n",
      "    value = obj.__dict__[self.func.__name__] = self.func(obj)\n",
      "  File \"/Users/pigr/Desktop/uzh论文/pythonProject/lib/python3.9/site-packages/stack_data/core.py\", line 681, in included_pieces\n",
      "    pos = scope_pieces.index(self.executing_piece)\n",
      "  File \"/Users/pigr/Desktop/uzh论文/pythonProject/lib/python3.9/site-packages/stack_data/utils.py\", line 145, in cached_property_wrapper\n",
      "    value = obj.__dict__[self.func.__name__] = self.func(obj)\n",
      "  File \"/Users/pigr/Desktop/uzh论文/pythonProject/lib/python3.9/site-packages/stack_data/core.py\", line 660, in executing_piece\n",
      "    return only(\n",
      "  File \"/Users/pigr/Desktop/uzh论文/pythonProject/lib/python3.9/site-packages/executing/executing.py\", line 116, in only\n",
      "    raise NotOneValueFound('Expected one value, found 0')\n",
      "executing.executing.NotOneValueFound: Expected one value, found 0\n"
     ]
    }
   ],
   "source": [
    "from collections import defaultdict\n",
    "from tqdm import tqdm\n",
    "# datasets = ['abalone','adult','buddy','california','cardio','churn2','diabetes','fb-comments','gesture','higgs-small','house','insurance','king','miniboone','wilt']\n",
    "# models = ['ddmp_cb_best','ctabgan-plus','tvae','smote']\n",
    "models = ['ddpm_cb_best','ctabgan-plus','tvae','smote']\n",
    "# pbar = tqdm(datasets)\n",
    "mbar = tqdm(models)\n",
    "data = 'cardio'\n",
    "\n",
    "res = defaultdict(int)\n",
    "for model in mbar:\n",
    "    real_path = 'data/'+data\n",
    "    fake_path = 'exp/'+data+'/'+model\n",
    "    dists = privacy_metrics(real_path=real_path,fake_path=fake_path, data_percent=15)\n",
    "    privacy_val = np.median(dists)\n",
    "    res[model] = privacy_val\n",
    "    mbar.set_description(f\"{model} is completed\")\n"
   ],
   "metadata": {
    "collapsed": false
   }
  },
  {
   "cell_type": "code",
   "execution_count": 71,
   "outputs": [
    {
     "data": {
      "text/plain": "defaultdict(dict,\n            {'diabetes': {'ddpm_cb_best': np.float64(0.23167739911266447)}})"
     },
     "execution_count": 71,
     "metadata": {},
     "output_type": "execute_result"
    }
   ],
   "source": [
    "res"
   ],
   "metadata": {
    "collapsed": false
   }
  },
  {
   "cell_type": "code",
   "execution_count": 74,
   "outputs": [
    {
     "name": "stderr",
     "output_type": "stream",
     "text": [
      "usage: ipykernel_launcher.py [-h] [--model MODEL] [--dataset DATASET]\n",
      "ipykernel_launcher.py: error: unrecognized arguments: -f /Users/pigr/Library/Jupyter/runtime/kernel-6a51cf5a-f213-401e-a7dd-c02f8a1df5c9.json\n"
     ]
    },
    {
     "ename": "SystemExit",
     "evalue": "2",
     "output_type": "error",
     "traceback": [
      "An exception has occurred, use %tb to see the full traceback.\n",
      "\u001B[0;31mSystemExit\u001B[0m\u001B[0;31m:\u001B[0m 2\n"
     ]
    },
    {
     "name": "stderr",
     "output_type": "stream",
     "text": [
      "/Users/pigr/Desktop/uzh论文/pythonProject/lib/python3.9/site-packages/IPython/core/interactiveshell.py:3558: UserWarning: To exit: use 'exit', 'quit', or Ctrl-D.\n",
      "  warn(\"To exit: use 'exit', 'quit', or Ctrl-D.\", stacklevel=1)\n"
     ]
    }
   ],
   "source": [
    "import argparse\n",
    "parser = argparse.ArgumentParser()\n",
    "parser.add_argument('--model', type=str, help='choose the model')\n",
    "parser.add_argument('--dataset', type=str, help='choose the dataset')\n",
    "args = parser.parse_args()\n",
    "args.model"
   ],
   "metadata": {
    "collapsed": false
   }
  },
  {
   "cell_type": "code",
   "execution_count": 83,
   "outputs": [],
   "source": [
    "import torch\n",
    "model = torch.load('exp/diabetes/ddpm_cb_best/model.pt')"
   ],
   "metadata": {
    "collapsed": false
   }
  },
  {
   "cell_type": "code",
   "execution_count": 84,
   "outputs": [
    {
     "data": {
      "text/plain": "['__class__',\n '__class_getitem__',\n '__contains__',\n '__delattr__',\n '__delitem__',\n '__dict__',\n '__dir__',\n '__doc__',\n '__eq__',\n '__format__',\n '__ge__',\n '__getattribute__',\n '__getitem__',\n '__gt__',\n '__hash__',\n '__init__',\n '__init_subclass__',\n '__ior__',\n '__iter__',\n '__le__',\n '__len__',\n '__lt__',\n '__ne__',\n '__new__',\n '__or__',\n '__reduce__',\n '__reduce_ex__',\n '__repr__',\n '__reversed__',\n '__ror__',\n '__setattr__',\n '__setitem__',\n '__sizeof__',\n '__str__',\n '__subclasshook__',\n '_metadata',\n 'clear',\n 'copy',\n 'fromkeys',\n 'get',\n 'items',\n 'keys',\n 'move_to_end',\n 'pop',\n 'popitem',\n 'setdefault',\n 'update',\n 'values']"
     },
     "execution_count": 84,
     "metadata": {},
     "output_type": "execute_result"
    }
   ],
   "source": [
    "dir(model)"
   ],
   "metadata": {
    "collapsed": false
   }
  },
  {
   "cell_type": "code",
   "execution_count": 91,
   "outputs": [
    {
     "ename": "ValueError",
     "evalue": "setting an array element with a sequence. The requested array has an inhomogeneous shape after 1 dimensions. The detected shape was (7,) + inhomogeneous part.",
     "output_type": "error",
     "traceback": [
      "\u001B[0;31m---------------------------------------------------------------------------\u001B[0m",
      "\u001B[0;31mValueError\u001B[0m                                Traceback (most recent call last)",
      "Cell \u001B[0;32mIn[91], line 1\u001B[0m\n\u001B[0;32m----> 1\u001B[0m X_num\u001B[38;5;241m=\u001B[39m{\u001B[38;5;124m'\u001B[39m\u001B[38;5;124mtrain\u001B[39m\u001B[38;5;124m'\u001B[39m: \u001B[43mnp\u001B[49m\u001B[38;5;241;43m.\u001B[39;49m\u001B[43marray\u001B[49m\u001B[43m(\u001B[49m\u001B[43m[\u001B[49m\u001B[43m[\u001B[49m\u001B[43m \u001B[49m\u001B[38;5;241;43m1.50108595\u001B[39;49m\u001B[43m,\u001B[49m\u001B[43m \u001B[49m\u001B[38;5;241;43m-\u001B[39;49m\u001B[38;5;241;43m1.58338678\u001B[39;49m\u001B[43m,\u001B[49m\u001B[43m  \u001B[49m\u001B[38;5;241;43m1.83391464\u001B[39;49m\u001B[43m,\u001B[49m\u001B[43m \u001B[49m\u001B[38;5;241;43m.\u001B[39;49m\u001B[38;5;241;43m.\u001B[39;49m\u001B[38;5;241;43m.\u001B[39;49m\u001B[43m,\u001B[49m\u001B[43m  \u001B[49m\u001B[38;5;241;43m0.57789749\u001B[39;49m\u001B[43m,\u001B[49m\n\u001B[1;32m      2\u001B[0m \u001B[43m        \u001B[49m\u001B[38;5;241;43m-\u001B[39;49m\u001B[38;5;241;43m0.34561825\u001B[39;49m\u001B[43m,\u001B[49m\u001B[43m  \u001B[49m\u001B[38;5;241;43m1.11077162\u001B[39;49m\u001B[43m]\u001B[49m\u001B[43m,\u001B[49m\n\u001B[1;32m      3\u001B[0m \u001B[43m       \u001B[49m\u001B[43m[\u001B[49m\u001B[38;5;241;43m-\u001B[39;49m\u001B[38;5;241;43m0.72791329\u001B[39;49m\u001B[43m,\u001B[49m\u001B[43m \u001B[49m\u001B[38;5;241;43m-\u001B[39;49m\u001B[38;5;241;43m1.52070719\u001B[39;49m\u001B[43m,\u001B[49m\u001B[43m \u001B[49m\u001B[38;5;241;43m-\u001B[39;49m\u001B[38;5;241;43m1.14229039\u001B[39;49m\u001B[43m,\u001B[49m\u001B[43m \u001B[49m\u001B[38;5;241;43m.\u001B[39;49m\u001B[38;5;241;43m.\u001B[39;49m\u001B[38;5;241;43m.\u001B[39;49m\u001B[43m,\u001B[49m\u001B[43m  \u001B[49m\u001B[38;5;241;43m0.2533471\u001B[39;49m\u001B[43m \u001B[49m\u001B[43m,\u001B[49m\n\u001B[1;32m      4\u001B[0m \u001B[43m         \u001B[49m\u001B[38;5;241;43m1.57054024\u001B[39;49m\u001B[43m,\u001B[49m\u001B[43m \u001B[49m\u001B[38;5;241;43m-\u001B[39;49m\u001B[38;5;241;43m0.62292572\u001B[39;49m\u001B[43m]\u001B[49m\u001B[43m,\u001B[49m\n\u001B[1;32m      5\u001B[0m \u001B[43m       \u001B[49m\u001B[43m[\u001B[49m\u001B[43m \u001B[49m\u001B[38;5;241;43m0.96742157\u001B[39;49m\u001B[43m,\u001B[49m\u001B[43m  \u001B[49m\u001B[38;5;241;43m1.69465522\u001B[39;49m\u001B[43m,\u001B[49m\u001B[43m \u001B[49m\u001B[38;5;241;43m-\u001B[39;49m\u001B[38;5;241;43m0.62292572\u001B[39;49m\u001B[43m,\u001B[49m\u001B[43m \u001B[49m\u001B[38;5;241;43m.\u001B[39;49m\u001B[38;5;241;43m.\u001B[39;49m\u001B[38;5;241;43m.\u001B[39;49m\u001B[43m,\u001B[49m\u001B[43m \u001B[49m\u001B[38;5;241;43m-\u001B[39;49m\u001B[38;5;241;43m1.41570209\u001B[39;49m\u001B[43m,\u001B[49m\n\u001B[1;32m      6\u001B[0m \u001B[43m         \u001B[49m\u001B[38;5;241;43m0.78390897\u001B[39;49m\u001B[43m,\u001B[49m\u001B[43m  \u001B[49m\u001B[38;5;241;43m0.1397103\u001B[39;49m\u001B[43m \u001B[49m\u001B[43m]\u001B[49m\u001B[43m,\u001B[49m\n\u001B[1;32m      7\u001B[0m \u001B[43m       \u001B[49m\u001B[38;5;241;43m.\u001B[39;49m\u001B[38;5;241;43m.\u001B[39;49m\u001B[38;5;241;43m.\u001B[39;49m\u001B[43m,\u001B[49m\n\u001B[1;32m      8\u001B[0m \u001B[43m       \u001B[49m\u001B[43m[\u001B[49m\u001B[38;5;241;43m-\u001B[39;49m\u001B[38;5;241;43m0.34069483\u001B[39;49m\u001B[43m,\u001B[49m\u001B[43m \u001B[49m\u001B[38;5;241;43m-\u001B[39;49m\u001B[38;5;241;43m1.34762888\u001B[39;49m\u001B[43m,\u001B[49m\u001B[43m \u001B[49m\u001B[38;5;241;43m-\u001B[39;49m\u001B[38;5;241;43m0.52440051\u001B[39;49m\u001B[43m,\u001B[49m\u001B[43m \u001B[49m\u001B[38;5;241;43m.\u001B[39;49m\u001B[38;5;241;43m.\u001B[39;49m\u001B[38;5;241;43m.\u001B[39;49m\u001B[43m,\u001B[49m\u001B[43m  \u001B[49m\u001B[38;5;241;43m0.73365686\u001B[39;49m\u001B[43m,\u001B[49m\n\u001B[1;32m      9\u001B[0m \u001B[43m         \u001B[49m\u001B[38;5;241;43m0.68243484\u001B[39;49m\u001B[43m,\u001B[49m\u001B[43m \u001B[49m\u001B[38;5;241;43m-\u001B[39;49m\u001B[38;5;241;43m0.62292572\u001B[39;49m\u001B[43m]\u001B[49m\u001B[43m,\u001B[49m\n\u001B[1;32m     10\u001B[0m \u001B[43m       \u001B[49m\u001B[43m[\u001B[49m\u001B[38;5;241;43m-\u001B[39;49m\u001B[38;5;241;43m0.72791329\u001B[39;49m\u001B[43m,\u001B[49m\u001B[43m \u001B[49m\u001B[38;5;241;43m-\u001B[39;49m\u001B[38;5;241;43m1.50756199\u001B[39;49m\u001B[43m,\u001B[49m\u001B[43m  \u001B[49m\u001B[38;5;241;43m0.62292572\u001B[39;49m\u001B[43m,\u001B[49m\u001B[43m \u001B[49m\u001B[38;5;241;43m.\u001B[39;49m\u001B[38;5;241;43m.\u001B[39;49m\u001B[38;5;241;43m.\u001B[39;49m\u001B[43m,\u001B[49m\u001B[43m \u001B[49m\u001B[38;5;241;43m-\u001B[39;49m\u001B[38;5;241;43m0.95720947\u001B[39;49m\u001B[43m,\u001B[49m\n\u001B[1;32m     11\u001B[0m \u001B[43m         \u001B[49m\u001B[38;5;241;43m0.5642429\u001B[39;49m\u001B[43m \u001B[49m\u001B[43m,\u001B[49m\u001B[43m \u001B[49m\u001B[38;5;241;43m-\u001B[39;49m\u001B[38;5;241;43m1.11077162\u001B[39;49m\u001B[43m]\u001B[49m\u001B[43m,\u001B[49m\n\u001B[1;32m     12\u001B[0m \u001B[43m       \u001B[49m\u001B[43m[\u001B[49m\u001B[38;5;241;43m-\u001B[39;49m\u001B[38;5;241;43m0.34069483\u001B[39;49m\u001B[43m,\u001B[49m\u001B[43m  \u001B[49m\u001B[38;5;241;43m0.02089009\u001B[39;49m\u001B[43m,\u001B[49m\u001B[43m \u001B[49m\u001B[38;5;241;43m-\u001B[39;49m\u001B[38;5;241;43m1.24445179\u001B[39;49m\u001B[43m,\u001B[49m\u001B[43m \u001B[49m\u001B[38;5;241;43m.\u001B[39;49m\u001B[38;5;241;43m.\u001B[39;49m\u001B[38;5;241;43m.\u001B[39;49m\u001B[43m,\u001B[49m\u001B[43m \u001B[49m\u001B[38;5;241;43m-\u001B[39;49m\u001B[38;5;241;43m0.72791329\u001B[39;49m\u001B[43m,\u001B[49m\n\u001B[1;32m     13\u001B[0m \u001B[43m         \u001B[49m\u001B[38;5;241;43m0.2533471\u001B[39;49m\u001B[43m \u001B[49m\u001B[43m,\u001B[49m\u001B[43m \u001B[49m\u001B[38;5;241;43m-\u001B[39;49m\u001B[38;5;241;43m0.2533471\u001B[39;49m\u001B[43m \u001B[49m\u001B[43m]\u001B[49m\u001B[43m]\u001B[49m\u001B[43m)\u001B[49m}\n",
      "\u001B[0;31mValueError\u001B[0m: setting an array element with a sequence. The requested array has an inhomogeneous shape after 1 dimensions. The detected shape was (7,) + inhomogeneous part."
     ]
    }
   ],
   "source": [
    "X_num={'train': np.array([[ 1.50108595, -1.58338678,  1.83391464, ...,  0.57789749,\n",
    "        -0.34561825,  1.11077162],\n",
    "       [-0.72791329, -1.52070719, -1.14229039, ...,  0.2533471 ,\n",
    "         1.57054024, -0.62292572],\n",
    "       [ 0.96742157,  1.69465522, -0.62292572, ..., -1.41570209,\n",
    "         0.78390897,  0.1397103 ],\n",
    "       ...,\n",
    "       [-0.34069483, -1.34762888, -0.52440051, ...,  0.73365686,\n",
    "         0.68243484, -0.62292572],\n",
    "       [-0.72791329, -1.50756199,  0.62292572, ..., -0.95720947,\n",
    "         0.5642429 , -1.11077162],\n",
    "       [-0.34069483,  0.02089009, -1.24445179, ..., -0.72791329,\n",
    "         0.2533471 , -0.2533471 ]])}"
   ],
   "metadata": {
    "collapsed": false
   }
  },
  {
   "cell_type": "code",
   "execution_count": null,
   "outputs": [],
   "source": [
    "X_num={'train': np.array([[ 1.50108595, -1.58338678,  1.83391464, ...,  0.57789749,\n",
    "        -0.34561825,  1.11077162],\n",
    "       [-0.72791329, -1.52070719, -1.14229039, ...,  0.2533471 ,\n",
    "         1.57054024, -0.62292572],\n",
    "       [ 0.96742157,  1.69465522, -0.62292572, ..., -1.41570209,\n",
    "         0.78390897,  0.1397103 ],\n",
    "       ...,\n",
    "       [-0.34069483, -1.34762888, -0.52440051, ...,  0.73365686,\n",
    "         0.68243484, -0.62292572],\n",
    "       [-0.72791329, -1.50756199,  0.62292572, ..., -0.95720947,\n",
    "         0.5642429 , -1.11077162],\n",
    "       [-0.34069483,  0.02089009, -1.24445179, ..., -0.72791329,\n",
    "         0.2533471 , -0.2533471 ]])}"
   ],
   "metadata": {
    "collapsed": false
   }
  },
  {
   "cell_type": "code",
   "execution_count": null,
   "outputs": [],
   "source": [
    "!pip uninstall tornado"
   ],
   "metadata": {
    "collapsed": false
   }
  },
  {
   "cell_type": "code",
   "execution_count": null,
   "outputs": [],
   "source": [
    "1"
   ],
   "metadata": {
    "collapsed": false,
    "pycharm": {
     "is_executing": true
    }
   }
  },
  {
   "cell_type": "code",
   "execution_count": null,
   "outputs": [],
   "source": [],
   "metadata": {
    "collapsed": false
   }
  }
 ],
 "metadata": {
  "kernelspec": {
   "name": "python3",
   "language": "python",
   "display_name": "Python 3 (ipykernel)"
  },
  "language_info": {
   "codemirror_mode": {
    "name": "ipython",
    "version": 3
   },
   "file_extension": ".py",
   "mimetype": "text/x-python",
   "name": "python",
   "nbconvert_exporter": "python",
   "pygments_lexer": "ipython3",
   "version": "3.9.7"
  },
  "orig_nbformat": 4,
  "vscode": {
   "interpreter": {
    "hash": "a06af253165e97d0c1e75e8bf6d3252013856f30b8177e11b02d3fa36c37333d"
   }
  }
 },
 "nbformat": 4,
 "nbformat_minor": 2
}
